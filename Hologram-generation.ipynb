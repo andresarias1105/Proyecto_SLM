{
 "cells": [
  {
   "cell_type": "code",
   "execution_count": 12,
   "metadata": {},
   "outputs": [],
   "source": [
    "import numpy as np\n",
    "import math as mt \n",
    "import matplotlib.pyplot as plt\n",
    "import scipy as sci\n",
    "import scipy.special \n",
    "from matplotlib.animation import FuncAnimation\n",
    "import tqdm as tqdm\n",
    "from matplotlib.colors import LinearSegmentedColormap\n",
    "import time as time\n",
    "from matplotlib import rc\n",
    "colors = [(0, 0, 0), (1, 0, 0)] # first color is black, last is red\n",
    "cm = LinearSegmentedColormap.from_list(\n",
    "        \"Custom\", colors, N=20)\n",
    "\n",
    "cm1 = LinearSegmentedColormap.from_list(\n",
    "        \"Custom\", [(1,0,0),(0,0,0)], N=20)\n",
    "\n",
    "rc('font', **{'family': 'serif', 'serif': ['Computer Modern'], 'size': 25})\n",
    "rc('text', usetex=True)"
   ]
  },
  {
   "cell_type": "markdown",
   "metadata": {},
   "source": [
    "Se definen las características del holograma que se va a proyectar en el SLM, aquí se tiene que tener en cuenta el número de pixeles del SLM. En nuestro caso, el Cambridge Correllators tiene una grilla de $1024\\times768$ píxeles."
   ]
  },
  {
   "cell_type": "code",
   "execution_count": 13,
   "metadata": {},
   "outputs": [],
   "source": [
    "#Número de píxeles del SLM tanto vertical como horizontal\n",
    "Nxpix = 1024\n",
    "Nypix = 768\n",
    "\n",
    "#Grating (que no tengo idea de qué putas es)\n",
    "\n",
    "#Jeje, ahora sí sé qué putas es.\n",
    "\n",
    "k = 100\n",
    "\n",
    "w = 455/9"
   ]
  },
  {
   "cell_type": "markdown",
   "metadata": {},
   "source": [
    "Se define la grilla de la imagen que contendrá el holograma. "
   ]
  },
  {
   "cell_type": "code",
   "execution_count": 14,
   "metadata": {},
   "outputs": [],
   "source": [
    "\"\"\"Creo que esto es una normalización de la grilla sobre\n",
    "con la dimensión más pequeña que se tenga.\"\"\"\n",
    "\n",
    "x = Nxpix/np.min([Nypix,Nxpix])\n",
    "y = Nypix/np.min([Nypix,Nxpix])\n",
    "\n",
    "d1 = np.linspace(-x,x,Nxpix)\n",
    "d2 = np.linspace(-y,y,Nypix)\n",
    "\n",
    "XX,YY = np.meshgrid(d1,d2)\n",
    "\n"
   ]
  },
  {
   "cell_type": "markdown",
   "metadata": {},
   "source": [
    "Se creará la función que dé el campo eléctrico que se desea obtener luego de que el haz gaußiano pase por el SLM. Este debe tener la forma $$ E_{\\text{out}}(\\mathbf{r}) = \\sqrt{\\frac{2p!}{\\pi(p +|\\ell|)!}} \\left(\\frac{\\sqrt{2}r}{w_0} \\right)^{|\\ell|}L_{p}^{|\\ell|}\\left( \\frac{2r^2}{w_0^2}\\right)\\exp\\left(-\\frac{r^2}{w_0^2} \\right) \\exp\\left( i\\ell \\theta\\right)$$"
   ]
  },
  {
   "cell_type": "code",
   "execution_count": 15,
   "metadata": {},
   "outputs": [],
   "source": [
    "def LG(p,ell,r):\n",
    "    return sci.special.assoc_laguerre(r,ell,p)"
   ]
  },
  {
   "cell_type": "code",
   "execution_count": 16,
   "metadata": {},
   "outputs": [],
   "source": [
    "def ElectrischenFeld(p,ell,w,xx,yy,theta=0,total_z_prop=True):\n",
    "    if not total_z_prop:\n",
    "        prop = np.exp(1j*k*np.sin(theta)*XX)\n",
    "    else:\n",
    "        prop = 1\n",
    "    rr = np.sqrt(xx**2 + yy**2)\n",
    "    A = np.sqrt(2/(np.pi*mt.factorial(np.abs(ell))))\n",
    "    B = (np.sqrt(2)*rr/w)**np.abs(ell)\n",
    "    C = np.exp(-rr**2/w**2)\n",
    "    Phase = np.exp(1j*ell*(np.arctan2(yy,xx))) \n",
    "    ElectricFeld = A*B*C*LG(2*rr**2/w**2,np.abs(ell),p)*Phase*prop\n",
    "    return ElectricFeld"
   ]
  },
  {
   "cell_type": "code",
   "execution_count": 17,
   "metadata": {},
   "outputs": [
    {
     "ename": "AttributeError",
     "evalue": "module 'scipy' has no attribute 'special'",
     "output_type": "error",
     "traceback": [
      "\u001b[1;31m---------------------------------------------------------------------------\u001b[0m",
      "\u001b[1;31mAttributeError\u001b[0m                            Traceback (most recent call last)",
      "\u001b[1;32mC:\\Users\\THINKB~1\\AppData\\Local\\Temp/ipykernel_5884/4077863148.py\u001b[0m in \u001b[0;36m<module>\u001b[1;34m\u001b[0m\n\u001b[0;32m      3\u001b[0m \u001b[0mtheta\u001b[0m \u001b[1;33m=\u001b[0m \u001b[1;36m45\u001b[0m\u001b[1;33m\u001b[0m\u001b[1;33m\u001b[0m\u001b[0m\n\u001b[0;32m      4\u001b[0m \u001b[0mtheta\u001b[0m \u001b[1;33m=\u001b[0m \u001b[0mnp\u001b[0m\u001b[1;33m.\u001b[0m\u001b[0mpi\u001b[0m\u001b[1;33m*\u001b[0m\u001b[0mtheta\u001b[0m\u001b[1;33m/\u001b[0m\u001b[1;36m180\u001b[0m\u001b[1;33m\u001b[0m\u001b[1;33m\u001b[0m\u001b[0m\n\u001b[1;32m----> 5\u001b[1;33m \u001b[0mE1\u001b[0m \u001b[1;33m=\u001b[0m \u001b[0mElectrischenFeld\u001b[0m\u001b[1;33m(\u001b[0m\u001b[1;36m0\u001b[0m\u001b[1;33m,\u001b[0m\u001b[1;36m1\u001b[0m\u001b[1;33m,\u001b[0m\u001b[0mw\u001b[0m\u001b[1;33m,\u001b[0m\u001b[0mXX\u001b[0m\u001b[1;33m,\u001b[0m\u001b[0mYY\u001b[0m\u001b[1;33m)\u001b[0m\u001b[1;33m\u001b[0m\u001b[1;33m\u001b[0m\u001b[0m\n\u001b[0m\u001b[0;32m      6\u001b[0m \u001b[0mE2\u001b[0m \u001b[1;33m=\u001b[0m \u001b[0mElectrischenFeld\u001b[0m\u001b[1;33m(\u001b[0m\u001b[1;36m0\u001b[0m\u001b[1;33m,\u001b[0m\u001b[1;36m0\u001b[0m\u001b[1;33m,\u001b[0m\u001b[0mw\u001b[0m\u001b[1;33m,\u001b[0m\u001b[0mXX\u001b[0m\u001b[1;33m,\u001b[0m\u001b[0mYY\u001b[0m\u001b[1;33m,\u001b[0m\u001b[0mtheta\u001b[0m\u001b[1;33m,\u001b[0m\u001b[1;32mFalse\u001b[0m\u001b[1;33m)\u001b[0m\u001b[1;33m\u001b[0m\u001b[1;33m\u001b[0m\u001b[0m\n\u001b[0;32m      7\u001b[0m \u001b[1;33m\u001b[0m\u001b[0m\n",
      "\u001b[1;32mC:\\Users\\THINKB~1\\AppData\\Local\\Temp/ipykernel_5884/1999971019.py\u001b[0m in \u001b[0;36mElectrischenFeld\u001b[1;34m(p, ell, w, xx, yy, theta, total_z_prop)\u001b[0m\n\u001b[0;32m      9\u001b[0m     \u001b[0mC\u001b[0m \u001b[1;33m=\u001b[0m \u001b[0mnp\u001b[0m\u001b[1;33m.\u001b[0m\u001b[0mexp\u001b[0m\u001b[1;33m(\u001b[0m\u001b[1;33m-\u001b[0m\u001b[0mrr\u001b[0m\u001b[1;33m**\u001b[0m\u001b[1;36m2\u001b[0m\u001b[1;33m/\u001b[0m\u001b[0mw\u001b[0m\u001b[1;33m**\u001b[0m\u001b[1;36m2\u001b[0m\u001b[1;33m)\u001b[0m\u001b[1;33m\u001b[0m\u001b[1;33m\u001b[0m\u001b[0m\n\u001b[0;32m     10\u001b[0m     \u001b[0mPhase\u001b[0m \u001b[1;33m=\u001b[0m \u001b[0mnp\u001b[0m\u001b[1;33m.\u001b[0m\u001b[0mexp\u001b[0m\u001b[1;33m(\u001b[0m\u001b[1;36m1j\u001b[0m\u001b[1;33m*\u001b[0m\u001b[0mell\u001b[0m\u001b[1;33m*\u001b[0m\u001b[1;33m(\u001b[0m\u001b[0mnp\u001b[0m\u001b[1;33m.\u001b[0m\u001b[0marctan2\u001b[0m\u001b[1;33m(\u001b[0m\u001b[0myy\u001b[0m\u001b[1;33m,\u001b[0m\u001b[0mxx\u001b[0m\u001b[1;33m)\u001b[0m\u001b[1;33m)\u001b[0m\u001b[1;33m)\u001b[0m\u001b[1;33m\u001b[0m\u001b[1;33m\u001b[0m\u001b[0m\n\u001b[1;32m---> 11\u001b[1;33m     \u001b[0mElectricFeld\u001b[0m \u001b[1;33m=\u001b[0m \u001b[0mA\u001b[0m\u001b[1;33m*\u001b[0m\u001b[0mB\u001b[0m\u001b[1;33m*\u001b[0m\u001b[0mC\u001b[0m\u001b[1;33m*\u001b[0m\u001b[0mLG\u001b[0m\u001b[1;33m(\u001b[0m\u001b[1;36m2\u001b[0m\u001b[1;33m*\u001b[0m\u001b[0mrr\u001b[0m\u001b[1;33m**\u001b[0m\u001b[1;36m2\u001b[0m\u001b[1;33m/\u001b[0m\u001b[0mw\u001b[0m\u001b[1;33m**\u001b[0m\u001b[1;36m2\u001b[0m\u001b[1;33m,\u001b[0m\u001b[0mnp\u001b[0m\u001b[1;33m.\u001b[0m\u001b[0mabs\u001b[0m\u001b[1;33m(\u001b[0m\u001b[0mell\u001b[0m\u001b[1;33m)\u001b[0m\u001b[1;33m,\u001b[0m\u001b[0mp\u001b[0m\u001b[1;33m)\u001b[0m\u001b[1;33m*\u001b[0m\u001b[0mPhase\u001b[0m\u001b[1;33m*\u001b[0m\u001b[0mprop\u001b[0m\u001b[1;33m\u001b[0m\u001b[1;33m\u001b[0m\u001b[0m\n\u001b[0m\u001b[0;32m     12\u001b[0m     \u001b[1;32mreturn\u001b[0m \u001b[0mElectricFeld\u001b[0m\u001b[1;33m\u001b[0m\u001b[1;33m\u001b[0m\u001b[0m\n",
      "\u001b[1;32mC:\\Users\\THINKB~1\\AppData\\Local\\Temp/ipykernel_5884/3338464685.py\u001b[0m in \u001b[0;36mLG\u001b[1;34m(p, ell, r)\u001b[0m\n\u001b[0;32m      1\u001b[0m \u001b[1;32mdef\u001b[0m \u001b[0mLG\u001b[0m\u001b[1;33m(\u001b[0m\u001b[0mp\u001b[0m\u001b[1;33m,\u001b[0m\u001b[0mell\u001b[0m\u001b[1;33m,\u001b[0m\u001b[0mr\u001b[0m\u001b[1;33m)\u001b[0m\u001b[1;33m:\u001b[0m\u001b[1;33m\u001b[0m\u001b[1;33m\u001b[0m\u001b[0m\n\u001b[1;32m----> 2\u001b[1;33m     \u001b[1;32mreturn\u001b[0m \u001b[0msci\u001b[0m\u001b[1;33m.\u001b[0m\u001b[0mspecial\u001b[0m\u001b[1;33m.\u001b[0m\u001b[0massoc_laguerre\u001b[0m\u001b[1;33m(\u001b[0m\u001b[0mr\u001b[0m\u001b[1;33m,\u001b[0m\u001b[0mell\u001b[0m\u001b[1;33m,\u001b[0m\u001b[0mp\u001b[0m\u001b[1;33m)\u001b[0m\u001b[1;33m\u001b[0m\u001b[1;33m\u001b[0m\u001b[0m\n\u001b[0m",
      "\u001b[1;31mAttributeError\u001b[0m: module 'scipy' has no attribute 'special'"
     ]
    }
   ],
   "source": [
    "gray=\"gray\"\n",
    "rb = \"rainbow\"\n",
    "theta = 45\n",
    "theta = np.pi*theta/180\n",
    "E1 = ElectrischenFeld(0,1,w,XX,YY)\n",
    "E2 = ElectrischenFeld(0,0,w,XX,YY,theta,False)\n",
    "\n",
    "H = np.real((E2+E1)*np.conjugate(E2 + E1))\n",
    "\n",
    "pattern = plt.contourf(XX,YY,H,100,cmap=\"gray\")\n",
    "plt.axis(False)\n",
    "plt.savefig(\"diff_grating_interference.png\")"
   ]
  },
  {
   "cell_type": "code",
   "execution_count": 50,
   "metadata": {},
   "outputs": [
    {
     "data": {
      "image/png": "[encoded data removed]",
      "text/plain": [
       "<Figure size 640x480 with 1 Axes>"
      ]
     },
     "metadata": {},
     "output_type": "display_data"
    }
   ],
   "source": [
    "gray=\"gray\"\n",
    "rb = \"rainbow\"\n",
    "theta = 45\n",
    "theta = np.pi*theta/180\n",
    "E1 = ElectrischenFeld(0,1,w,XX,YY)\n",
    "E2 = ElectrischenFeld(0,0,w,XX,YY,theta,False)\n",
    "\n",
    "H = np.uint8((np.angle(E2) + np.angle(E1))%(2*np.pi))\n",
    "\n",
    "pattern = plt.contourf(XX,YY,H,100,cmap=\"gray\")\n",
    "plt.axis(False)\n",
    "plt.savefig(\"diff_grating_phase_adding.png\")"
   ]
  },
  {
   "cell_type": "markdown",
   "metadata": {},
   "source": [
    "# Manera en como lo hace Daniel Urrego en su tesis de doctorado"
   ]
  },
  {
   "cell_type": "code",
   "execution_count": null,
   "metadata": {},
   "outputs": [],
   "source": []
  }
 ],
 "metadata": {
  "kernelspec": {
   "display_name": "Python 3 (ipykernel)",
   "language": "python",
   "name": "python3"
  },
  "language_info": {
   "codemirror_mode": {
    "name": "ipython",
    "version": 3
   },
   "file_extension": ".py",
   "mimetype": "text/x-python",
   "name": "python",
   "nbconvert_exporter": "python",
   "pygments_lexer": "ipython3",
   "version": "3.9.7"
  }
 },
 "nbformat": 4,
 "nbformat_minor": 4
}
