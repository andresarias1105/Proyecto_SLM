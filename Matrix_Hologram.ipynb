{
 "cells": [
  {
   "cell_type": "code",
   "execution_count": 1,
   "id": "b851245e",
   "metadata": {},
   "outputs": [],
   "source": [
    "#pip install pygame"
   ]
  },
  {
   "cell_type": "code",
   "execution_count": 2,
   "id": "8a7f4162",
   "metadata": {},
   "outputs": [],
   "source": [
    "\n",
    "import numpy as np\n",
    "import time\n",
    "import matplotlib.pyplot as plt\n",
    "import cv2\n",
    "import math as mt \n",
    "import scipy.special as sci\n",
    "from matplotlib.animation import FuncAnimation\n",
    "import tqdm as tqdm\n"
   ]
  },
  {
   "cell_type": "code",
   "execution_count": 3,
   "id": "c876d9c7",
   "metadata": {},
   "outputs": [
    {
     "data": {
      "image/png": "[encoded data removed]",
      "text/plain": [
       "<Figure size 432x432 with 2 Axes>"
      ]
     },
     "metadata": {
      "needs_background": "light"
     },
     "output_type": "display_data"
    }
   ],
   "source": [
    "Nxpix = 1024 ## DIMENSIONES DEL SLM\n",
    "Nypix = 768\n",
    "Pix_size=9e-6 #TAMANO DEL PIXEL ES 9um\n",
    "\n",
    "##GENERACION DE BEAMS GAUSSIANOS\n",
    "\n",
    "def gaussian_beam(X,Y, z, w0, k,x0,y0):\n",
    "    \"\"\"\n",
    "    Computes the Gaussian beam profile based on the given equation.\n",
    "    \n",
    "    Parameters:\n",
    "        r  : Radial coordinate\n",
    "        z  : Axial coordinate (propagation distance)\n",
    "        w0 : Beam waist (radius at focus)\n",
    "        k  : Wave number\n",
    "    \n",
    "    Returns:\n",
    "        Complex field amplitude of the Gaussian beam.\n",
    "    \"\"\"\n",
    "    R = np.sqrt((X-x0)**2 + (Y+y0)**2)\n",
    "    z_R = np.pi * w0**2 / k  # Rayleigh range\n",
    "    w_z = w0 * np.sqrt(1 + (z / z_R) ** 2)  # Beam waist at z\n",
    "    R_z = z * (1 + (z_R / z) ** 2) if z != 0 else np.inf  # Radius of curvature\n",
    "    psi_z = np.arctan(z / z_R)  # Gouy phase\n",
    "    \n",
    "    amplitude = (w0 / w_z) * np.exp(-R**2 / w_z**2)\n",
    "    phase = np.exp(-1j * (k * z + k * R**2 / (2 * R_z) - psi_z))\n",
    "    \n",
    "    return amplitude * phase\n",
    "\n",
    "# Define grid\n",
    "N = (Nxpix,Nypix)  # Grid size\n",
    "x = np.linspace(-Nxpix/2*Pix_size, Nxpix/2*Pix_size, Nxpix)\n",
    "y = np.linspace(-Nypix/2*Pix_size, Nypix/2*Pix_size, Nypix)\n",
    "X, Y = np.meshgrid(x, y)\n",
    "\n",
    "\n",
    "\n",
    "# Set Gaussian beam parameters\n",
    "w0 = 1000* 10**-6  # Beam waist\n",
    "z = 0  # Propagation distance\n",
    "k = 2*np.pi/633e-9  # Wave number\n",
    "\n",
    "# Compute beam intensity\n",
    "gaussian_mode = gaussian_beam(X,Y, z, w0, k,1000e-6,1000e-6)\n",
    "intensity = np.abs(gaussian_mode) ** 2\n",
    "\n",
    "# Plot the intensity pattern\n",
    "plt.figure(figsize=(6, 6))\n",
    "plt.imshow(intensity, extent=[-Nxpix/2*Pix_size, Nxpix/2*Pix_size, -Nypix/2*Pix_size, Nypix/2*Pix_size], cmap='inferno')\n",
    "plt.colorbar(label='Intensity')\n",
    "plt.title(f'Gaussian Beam (z={z})')\n",
    "plt.xlabel('x')\n",
    "plt.ylabel('y')\n",
    "plt.show()\n",
    "\n"
   ]
  },
  {
   "cell_type": "code",
   "execution_count": 10,
   "id": "552bf43e",
   "metadata": {},
   "outputs": [
    {
     "name": "stdout",
     "output_type": "stream",
     "text": [
      "[-0.00035  0.00035]\n"
     ]
    },
    {
     "data": {
      "image/png": "[encoded data removed]",
      "text/plain": [
       "<Figure size 432x288 with 1 Axes>"
      ]
     },
     "metadata": {
      "needs_background": "light"
     },
     "output_type": "display_data"
    }
   ],
   "source": [
    "Nxpix = 1024 ## DIMENSIONES DEL SLM\n",
    "Nypix = 768\n",
    "Pix_size=9e-6 \n",
    "\n",
    "N = (Nxpix,Nypix)  # Grid size\n",
    "x = np.linspace(-Nxpix/2*Pix_size, Nxpix/2*Pix_size, Nxpix)\n",
    "y = np.linspace(-Nypix/2*Pix_size, Nypix/2*Pix_size, Nypix)\n",
    "X, Y = np.meshgrid(x, y)\n",
    "R = np.sqrt(X**2 + Y**2)\n",
    "\n",
    "\n",
    "# Set Gaussian beam parameters\n",
    "w0 = 250* 10**-6  # Beam waist\n",
    "z = 0  # Propagation distance\n",
    "k = 2*np.pi/633e-9  # Wave number\n",
    "\n",
    "\n",
    "def Gaussian_Beam_Matrix(N,size):\n",
    "    \n",
    "    \n",
    "    xs=np.linspace(-size/2,size/2,N)\n",
    "    ys=np.linspace(-size/2,size/2,N)\n",
    "    \n",
    "    print(xs)\n",
    "    Electric_field=0\n",
    "    \n",
    "    for i in xs:\n",
    "        for j in ys:\n",
    "            \n",
    "    \n",
    "           Electric_field += gaussian_beam(X,Y, z, w0, k,i,j)\n",
    "     \n",
    "    \n",
    "    return Electric_field\n",
    "    \n",
    "    \n",
    "\n",
    "##GENERACION DE PATRONES AMPLITUD-FASE SEGUN (E.Bolduc,2013) \"Exact solution to simultaneous intensity and phase encryption with a single phase-only hologram\"\n",
    "\n",
    "\n",
    "def contrast_function(C, array):\n",
    "    y = C * (array - 255/2) + 255/2\n",
    "    return np.clip(y, 0, 255).astype(\"uint8\")\n",
    "\n",
    "\n",
    "##GENERACION DE PATRONES AMPLITUD-FASE SEGUN (E.Bolduc,2013) \"Exact solution to simultaneous intensity and phase encryption with a single phase-only hologram\"\n",
    "\n",
    "def Amplitude_Phase_pattern(Desired_Field, LAMBDA, NX, NY, Contrast=1):\n",
    "    A = np.abs(Desired_Field)\n",
    "    PHI = np.angle(Desired_Field)\n",
    "\n",
    "    M = A / np.max(A)\n",
    "    F = PHI - np.pi * M\n",
    "\n",
    "    # Eliminamos los bucles for usando operaciones vectorizadas\n",
    "    x = np.arange(NX)\n",
    "    y = np.arange(NY)\n",
    "    X, Y = np.meshgrid(x, y, indexing='xy')\n",
    "\n",
    "    psi = M * np.mod(F + ( 2* np.pi * X / (0.7*LAMBDA)) + (2 * np.pi * Y / (0.7*LAMBDA)) , 2* np.pi)\n",
    "\n",
    "    psi_int = ((psi - psi.min()) * (255 / (psi.max() - psi.min()))).astype(np.uint8)\n",
    "\n",
    "    return contrast_function(Contrast, psi_int)\n",
    "\n",
    "\n",
    "\n",
    "OutputField=Gaussian_Beam_Matrix(2,700e-6)\n",
    "\n",
    "Hologram=Amplitude_Phase_pattern(OutputField,Pix_size,Nxpix,Nypix,Contrast=2.1) ##Variable donde guardamos la matrix de pixeles de valores del holograma\n",
    "\n",
    "pattern=plt.imshow(Hologram,cmap=\"gray\",aspect='equal')\n",
    "#Field_int=plt.imshow(np.abs(Output_Field)**2,cmap=\"gray\")\n",
    "plt.axis('off')\n",
    "plt.savefig(\"Figuras\\HologramInput_matrix.png\",bbox_inches='tight', transparent=\"True\", pad_inches=0,dpi=300)\n",
    "\n",
    "\n",
    "\n",
    "\n",
    "    "
   ]
  },
  {
   "cell_type": "code",
   "execution_count": 11,
   "id": "209540ca",
   "metadata": {},
   "outputs": [
    {
     "name": "stdout",
     "output_type": "stream",
     "text": [
      "[-0.0005  0.      0.0005]\n"
     ]
    },
    {
     "data": {
      "text/plain": [
       "<matplotlib.image.AxesImage at 0x1758ee58790>"
      ]
     },
     "execution_count": 11,
     "metadata": {},
     "output_type": "execute_result"
    },
    {
     "data": {
      "image/png": "[encoded data removed]",
      "text/plain": [
       "<Figure size 432x288 with 1 Axes>"
      ]
     },
     "metadata": {
      "needs_background": "light"
     },
     "output_type": "display_data"
    }
   ],
   "source": [
    "Nxpix = 1024 ## DIMENSIONES DEL SLM\n",
    "Nypix = 768\n",
    "Pix_size=9e-6 \n",
    "\n",
    "N = (Nxpix,Nypix)  # Grid size\n",
    "x = np.linspace(-Nxpix/2*Pix_size, Nxpix/2*Pix_size, Nxpix)\n",
    "y = np.linspace(-Nypix/2*Pix_size, Nypix/2*Pix_size, Nypix)\n",
    "X, Y = np.meshgrid(x, y)\n",
    "R = np.sqrt(X**2 + Y**2)\n",
    "\n",
    "\n",
    "# Set Gaussian beam parameters\n",
    "w0 = 200* 10**-6  # Beam waist\n",
    "z = 0  # Propagation distance\n",
    "k = 2*np.pi/633e-9  # Wave number\n",
    "\n",
    "\n",
    "def Gaussian_Beam_Matrix(N,size):\n",
    "    \n",
    "    \n",
    "    xs=np.linspace(-size/2,size/2,N)\n",
    "    ys=np.linspace(-size/2,size/2,N)\n",
    "    \n",
    "    print(xs)\n",
    "    Electric_field=0\n",
    "    \n",
    "    for i in xs:\n",
    "        for j in ys:\n",
    "            \n",
    "    \n",
    "           Electric_field += gaussian_beam(X,Y, z, w0, k,i,j)\n",
    "     \n",
    "    \n",
    "    return Electric_field\n",
    "\n",
    "\n",
    "plt.imshow(np.abs(Gaussian_Beam_Matrix(3,1000e-6)))"
   ]
  },
  {
   "cell_type": "code",
   "execution_count": 12,
   "id": "9c649bd8",
   "metadata": {},
   "outputs": [],
   "source": [
    "\n",
    "##MOSTRAR IMAGEN EN PANTALLLA\n",
    "import cv2\n",
    "import screeninfo\n",
    "\n",
    "def show_fullscreen_image(image, screen_index=0):\n",
    "    # Load the image\n",
    "    #image = cv2.imread(image_path)\n",
    "    \n",
    "    # Check if image is loaded successfully\n",
    "    if image is None:\n",
    "        print(\"Error: Unable to load image.\")\n",
    "        return\n",
    "    \n",
    "    # Get screen dimensions\n",
    "    screens = screeninfo.get_monitors()\n",
    "    if screen_index >= len(screens):\n",
    "        print(\"Error: Screen index out of range.\")\n",
    "        return\n",
    "    \n",
    "    screen = screens[screen_index]\n",
    "    screen_width, screen_height = screen.width, screen.height\n",
    "    \n",
    "    # Resize the image to fit the screen dimensions\n",
    "    image = cv2.resize(image, (screen_width, screen_height))\n",
    "    \n",
    "    # Create a named window and move it to the selected screen\n",
    "    cv2.namedWindow(\"Fullscreen Image\", cv2.WND_PROP_FULLSCREEN)\n",
    "    cv2.moveWindow(\"Fullscreen Image\", screen.x, screen.y)\n",
    "    cv2.setWindowProperty(\"Fullscreen Image\", cv2.WND_PROP_FULLSCREEN, cv2.WINDOW_FULLSCREEN)\n",
    "    \n",
    "    # Show the image\n",
    "    cv2.imshow(\"Fullscreen Image\", image)\n",
    "    \n",
    "    # Wait for a key press and close the window\n",
    "    while True:\n",
    "        k = cv2.waitKey(0) & 0xFF\n",
    "        \n",
    "        if k == ord('q'): #CERRAR VENTANA CON \"C\"\n",
    "            cv2.destroyAllWindows()\n",
    "            break\n",
    "#l=0\n",
    "#p=4\n",
    "\n",
    "#Hologram=Amplitude_Phase_pattern(Output_Field,Pix_size,Nxpix,Nypix,Contrast=1)\n",
    "show_fullscreen_image(Hologram,screen_index=0)#SCREEN_INDEX=0 (Pantalla principal) , 1 segunda pantalla (SLM) \n"
   ]
  },
  {
   "cell_type": "code",
   "execution_count": null,
   "id": "dbd6e311",
   "metadata": {},
   "outputs": [],
   "source": []
  }
 ],
 "metadata": {
  "kernelspec": {
   "display_name": "Python 3 (ipykernel)",
   "language": "python",
   "name": "python3"
  },
  "language_info": {
   "codemirror_mode": {
    "name": "ipython",
    "version": 3
   },
   "file_extension": ".py",
   "mimetype": "text/x-python",
   "name": "python",
   "nbconvert_exporter": "python",
   "pygments_lexer": "ipython3",
   "version": "3.9.7"
  }
 },
 "nbformat": 4,
 "nbformat_minor": 5
}
